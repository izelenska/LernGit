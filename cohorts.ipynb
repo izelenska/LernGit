{
 "cells": [
  {
   "cell_type": "code",
   "execution_count": 1,
   "id": "38d6608d",
   "metadata": {},
   "outputs": [],
   "source": [
    "import pandas as pd"
   ]
  },
  {
   "cell_type": "code",
   "execution_count": 2,
   "id": "019c8e1a",
   "metadata": {},
   "outputs": [],
   "source": [
    "# 1. Загружаем данные"
   ]
  },
  {
   "cell_type": "code",
   "execution_count": 3,
   "id": "84780478",
   "metadata": {},
   "outputs": [],
   "source": [
    "df_customer=pd.read_csv('project/olist_customers_dataset.csv')\n",
    "df_o_items=pd.read_csv('project/olist_order_items_dataset.csv')\n",
    "df_orders=pd.read_csv('project/olist_orders_dataset.csv')"
   ]
  },
  {
   "cell_type": "code",
   "execution_count": 4,
   "id": "ce5cd614",
   "metadata": {},
   "outputs": [],
   "source": [
    "# 2. Смотрим на содержание таблиц"
   ]
  },
  {
   "cell_type": "code",
   "execution_count": 5,
   "id": "96d5825c",
   "metadata": {},
   "outputs": [
    {
     "data": {
      "text/html": [
       "<div>\n",
       "<style scoped>\n",
       "    .dataframe tbody tr th:only-of-type {\n",
       "        vertical-align: middle;\n",
       "    }\n",
       "\n",
       "    .dataframe tbody tr th {\n",
       "        vertical-align: top;\n",
       "    }\n",
       "\n",
       "    .dataframe thead th {\n",
       "        text-align: right;\n",
       "    }\n",
       "</style>\n",
       "<table border=\"1\" class=\"dataframe\">\n",
       "  <thead>\n",
       "    <tr style=\"text-align: right;\">\n",
       "      <th></th>\n",
       "      <th>customer_id</th>\n",
       "      <th>customer_unique_id</th>\n",
       "      <th>customer_zip_code_prefix</th>\n",
       "      <th>customer_city</th>\n",
       "      <th>customer_state</th>\n",
       "    </tr>\n",
       "  </thead>\n",
       "  <tbody>\n",
       "    <tr>\n",
       "      <th>0</th>\n",
       "      <td>06b8999e2fba1a1fbc88172c00ba8bc7</td>\n",
       "      <td>861eff4711a542e4b93843c6dd7febb0</td>\n",
       "      <td>14409</td>\n",
       "      <td>franca</td>\n",
       "      <td>SP</td>\n",
       "    </tr>\n",
       "    <tr>\n",
       "      <th>1</th>\n",
       "      <td>18955e83d337fd6b2def6b18a428ac77</td>\n",
       "      <td>290c77bc529b7ac935b93aa66c333dc3</td>\n",
       "      <td>9790</td>\n",
       "      <td>sao bernardo do campo</td>\n",
       "      <td>SP</td>\n",
       "    </tr>\n",
       "    <tr>\n",
       "      <th>2</th>\n",
       "      <td>4e7b3e00288586ebd08712fdd0374a03</td>\n",
       "      <td>060e732b5b29e8181a18229c7b0b2b5e</td>\n",
       "      <td>1151</td>\n",
       "      <td>sao paulo</td>\n",
       "      <td>SP</td>\n",
       "    </tr>\n",
       "    <tr>\n",
       "      <th>3</th>\n",
       "      <td>b2b6027bc5c5109e529d4dc6358b12c3</td>\n",
       "      <td>259dac757896d24d7702b9acbbff3f3c</td>\n",
       "      <td>8775</td>\n",
       "      <td>mogi das cruzes</td>\n",
       "      <td>SP</td>\n",
       "    </tr>\n",
       "    <tr>\n",
       "      <th>4</th>\n",
       "      <td>4f2d8ab171c80ec8364f7c12e35b23ad</td>\n",
       "      <td>345ecd01c38d18a9036ed96c73b8d066</td>\n",
       "      <td>13056</td>\n",
       "      <td>campinas</td>\n",
       "      <td>SP</td>\n",
       "    </tr>\n",
       "  </tbody>\n",
       "</table>\n",
       "</div>"
      ],
      "text/plain": [
       "                        customer_id                customer_unique_id  \\\n",
       "0  06b8999e2fba1a1fbc88172c00ba8bc7  861eff4711a542e4b93843c6dd7febb0   \n",
       "1  18955e83d337fd6b2def6b18a428ac77  290c77bc529b7ac935b93aa66c333dc3   \n",
       "2  4e7b3e00288586ebd08712fdd0374a03  060e732b5b29e8181a18229c7b0b2b5e   \n",
       "3  b2b6027bc5c5109e529d4dc6358b12c3  259dac757896d24d7702b9acbbff3f3c   \n",
       "4  4f2d8ab171c80ec8364f7c12e35b23ad  345ecd01c38d18a9036ed96c73b8d066   \n",
       "\n",
       "   customer_zip_code_prefix          customer_city customer_state  \n",
       "0                     14409                 franca             SP  \n",
       "1                      9790  sao bernardo do campo             SP  \n",
       "2                      1151              sao paulo             SP  \n",
       "3                      8775        mogi das cruzes             SP  \n",
       "4                     13056               campinas             SP  "
      ]
     },
     "execution_count": 5,
     "metadata": {},
     "output_type": "execute_result"
    }
   ],
   "source": [
    "df_customer.head()"
   ]
  },
  {
   "cell_type": "code",
   "execution_count": 6,
   "id": "6b0ef719",
   "metadata": {},
   "outputs": [
    {
     "data": {
      "text/html": [
       "<div>\n",
       "<style scoped>\n",
       "    .dataframe tbody tr th:only-of-type {\n",
       "        vertical-align: middle;\n",
       "    }\n",
       "\n",
       "    .dataframe tbody tr th {\n",
       "        vertical-align: top;\n",
       "    }\n",
       "\n",
       "    .dataframe thead th {\n",
       "        text-align: right;\n",
       "    }\n",
       "</style>\n",
       "<table border=\"1\" class=\"dataframe\">\n",
       "  <thead>\n",
       "    <tr style=\"text-align: right;\">\n",
       "      <th></th>\n",
       "      <th>order_id</th>\n",
       "      <th>order_item_id</th>\n",
       "      <th>product_id</th>\n",
       "      <th>seller_id</th>\n",
       "      <th>shipping_limit_date</th>\n",
       "      <th>price</th>\n",
       "      <th>freight_value</th>\n",
       "    </tr>\n",
       "  </thead>\n",
       "  <tbody>\n",
       "    <tr>\n",
       "      <th>0</th>\n",
       "      <td>00010242fe8c5a6d1ba2dd792cb16214</td>\n",
       "      <td>1</td>\n",
       "      <td>4244733e06e7ecb4970a6e2683c13e61</td>\n",
       "      <td>48436dade18ac8b2bce089ec2a041202</td>\n",
       "      <td>2017-09-19 09:45:35</td>\n",
       "      <td>58.90</td>\n",
       "      <td>13.29</td>\n",
       "    </tr>\n",
       "    <tr>\n",
       "      <th>1</th>\n",
       "      <td>00018f77f2f0320c557190d7a144bdd3</td>\n",
       "      <td>1</td>\n",
       "      <td>e5f2d52b802189ee658865ca93d83a8f</td>\n",
       "      <td>dd7ddc04e1b6c2c614352b383efe2d36</td>\n",
       "      <td>2017-05-03 11:05:13</td>\n",
       "      <td>239.90</td>\n",
       "      <td>19.93</td>\n",
       "    </tr>\n",
       "    <tr>\n",
       "      <th>2</th>\n",
       "      <td>000229ec398224ef6ca0657da4fc703e</td>\n",
       "      <td>1</td>\n",
       "      <td>c777355d18b72b67abbeef9df44fd0fd</td>\n",
       "      <td>5b51032eddd242adc84c38acab88f23d</td>\n",
       "      <td>2018-01-18 14:48:30</td>\n",
       "      <td>199.00</td>\n",
       "      <td>17.87</td>\n",
       "    </tr>\n",
       "    <tr>\n",
       "      <th>3</th>\n",
       "      <td>00024acbcdf0a6daa1e931b038114c75</td>\n",
       "      <td>1</td>\n",
       "      <td>7634da152a4610f1595efa32f14722fc</td>\n",
       "      <td>9d7a1d34a5052409006425275ba1c2b4</td>\n",
       "      <td>2018-08-15 10:10:18</td>\n",
       "      <td>12.99</td>\n",
       "      <td>12.79</td>\n",
       "    </tr>\n",
       "    <tr>\n",
       "      <th>4</th>\n",
       "      <td>00042b26cf59d7ce69dfabb4e55b4fd9</td>\n",
       "      <td>1</td>\n",
       "      <td>ac6c3623068f30de03045865e4e10089</td>\n",
       "      <td>df560393f3a51e74553ab94004ba5c87</td>\n",
       "      <td>2017-02-13 13:57:51</td>\n",
       "      <td>199.90</td>\n",
       "      <td>18.14</td>\n",
       "    </tr>\n",
       "  </tbody>\n",
       "</table>\n",
       "</div>"
      ],
      "text/plain": [
       "                           order_id  order_item_id  \\\n",
       "0  00010242fe8c5a6d1ba2dd792cb16214              1   \n",
       "1  00018f77f2f0320c557190d7a144bdd3              1   \n",
       "2  000229ec398224ef6ca0657da4fc703e              1   \n",
       "3  00024acbcdf0a6daa1e931b038114c75              1   \n",
       "4  00042b26cf59d7ce69dfabb4e55b4fd9              1   \n",
       "\n",
       "                         product_id                         seller_id  \\\n",
       "0  4244733e06e7ecb4970a6e2683c13e61  48436dade18ac8b2bce089ec2a041202   \n",
       "1  e5f2d52b802189ee658865ca93d83a8f  dd7ddc04e1b6c2c614352b383efe2d36   \n",
       "2  c777355d18b72b67abbeef9df44fd0fd  5b51032eddd242adc84c38acab88f23d   \n",
       "3  7634da152a4610f1595efa32f14722fc  9d7a1d34a5052409006425275ba1c2b4   \n",
       "4  ac6c3623068f30de03045865e4e10089  df560393f3a51e74553ab94004ba5c87   \n",
       "\n",
       "   shipping_limit_date   price  freight_value  \n",
       "0  2017-09-19 09:45:35   58.90          13.29  \n",
       "1  2017-05-03 11:05:13  239.90          19.93  \n",
       "2  2018-01-18 14:48:30  199.00          17.87  \n",
       "3  2018-08-15 10:10:18   12.99          12.79  \n",
       "4  2017-02-13 13:57:51  199.90          18.14  "
      ]
     },
     "execution_count": 6,
     "metadata": {},
     "output_type": "execute_result"
    }
   ],
   "source": [
    "df_o_items.head()"
   ]
  },
  {
   "cell_type": "code",
   "execution_count": 7,
   "id": "2682ee44",
   "metadata": {},
   "outputs": [
    {
     "data": {
      "text/html": [
       "<div>\n",
       "<style scoped>\n",
       "    .dataframe tbody tr th:only-of-type {\n",
       "        vertical-align: middle;\n",
       "    }\n",
       "\n",
       "    .dataframe tbody tr th {\n",
       "        vertical-align: top;\n",
       "    }\n",
       "\n",
       "    .dataframe thead th {\n",
       "        text-align: right;\n",
       "    }\n",
       "</style>\n",
       "<table border=\"1\" class=\"dataframe\">\n",
       "  <thead>\n",
       "    <tr style=\"text-align: right;\">\n",
       "      <th></th>\n",
       "      <th>order_id</th>\n",
       "      <th>customer_id</th>\n",
       "      <th>order_status</th>\n",
       "      <th>order_purchase_timestamp</th>\n",
       "      <th>order_approved_at</th>\n",
       "      <th>order_delivered_carrier_date</th>\n",
       "      <th>order_delivered_customer_date</th>\n",
       "      <th>order_estimated_delivery_date</th>\n",
       "    </tr>\n",
       "  </thead>\n",
       "  <tbody>\n",
       "    <tr>\n",
       "      <th>0</th>\n",
       "      <td>e481f51cbdc54678b7cc49136f2d6af7</td>\n",
       "      <td>9ef432eb6251297304e76186b10a928d</td>\n",
       "      <td>delivered</td>\n",
       "      <td>2017-10-02 10:56:33</td>\n",
       "      <td>2017-10-02 11:07:15</td>\n",
       "      <td>2017-10-04 19:55:00</td>\n",
       "      <td>2017-10-10 21:25:13</td>\n",
       "      <td>2017-10-18 00:00:00</td>\n",
       "    </tr>\n",
       "    <tr>\n",
       "      <th>1</th>\n",
       "      <td>53cdb2fc8bc7dce0b6741e2150273451</td>\n",
       "      <td>b0830fb4747a6c6d20dea0b8c802d7ef</td>\n",
       "      <td>delivered</td>\n",
       "      <td>2018-07-24 20:41:37</td>\n",
       "      <td>2018-07-26 03:24:27</td>\n",
       "      <td>2018-07-26 14:31:00</td>\n",
       "      <td>2018-08-07 15:27:45</td>\n",
       "      <td>2018-08-13 00:00:00</td>\n",
       "    </tr>\n",
       "    <tr>\n",
       "      <th>2</th>\n",
       "      <td>47770eb9100c2d0c44946d9cf07ec65d</td>\n",
       "      <td>41ce2a54c0b03bf3443c3d931a367089</td>\n",
       "      <td>delivered</td>\n",
       "      <td>2018-08-08 08:38:49</td>\n",
       "      <td>2018-08-08 08:55:23</td>\n",
       "      <td>2018-08-08 13:50:00</td>\n",
       "      <td>2018-08-17 18:06:29</td>\n",
       "      <td>2018-09-04 00:00:00</td>\n",
       "    </tr>\n",
       "    <tr>\n",
       "      <th>3</th>\n",
       "      <td>949d5b44dbf5de918fe9c16f97b45f8a</td>\n",
       "      <td>f88197465ea7920adcdbec7375364d82</td>\n",
       "      <td>delivered</td>\n",
       "      <td>2017-11-18 19:28:06</td>\n",
       "      <td>2017-11-18 19:45:59</td>\n",
       "      <td>2017-11-22 13:39:59</td>\n",
       "      <td>2017-12-02 00:28:42</td>\n",
       "      <td>2017-12-15 00:00:00</td>\n",
       "    </tr>\n",
       "    <tr>\n",
       "      <th>4</th>\n",
       "      <td>ad21c59c0840e6cb83a9ceb5573f8159</td>\n",
       "      <td>8ab97904e6daea8866dbdbc4fb7aad2c</td>\n",
       "      <td>delivered</td>\n",
       "      <td>2018-02-13 21:18:39</td>\n",
       "      <td>2018-02-13 22:20:29</td>\n",
       "      <td>2018-02-14 19:46:34</td>\n",
       "      <td>2018-02-16 18:17:02</td>\n",
       "      <td>2018-02-26 00:00:00</td>\n",
       "    </tr>\n",
       "  </tbody>\n",
       "</table>\n",
       "</div>"
      ],
      "text/plain": [
       "                           order_id                       customer_id  \\\n",
       "0  e481f51cbdc54678b7cc49136f2d6af7  9ef432eb6251297304e76186b10a928d   \n",
       "1  53cdb2fc8bc7dce0b6741e2150273451  b0830fb4747a6c6d20dea0b8c802d7ef   \n",
       "2  47770eb9100c2d0c44946d9cf07ec65d  41ce2a54c0b03bf3443c3d931a367089   \n",
       "3  949d5b44dbf5de918fe9c16f97b45f8a  f88197465ea7920adcdbec7375364d82   \n",
       "4  ad21c59c0840e6cb83a9ceb5573f8159  8ab97904e6daea8866dbdbc4fb7aad2c   \n",
       "\n",
       "  order_status order_purchase_timestamp    order_approved_at  \\\n",
       "0    delivered      2017-10-02 10:56:33  2017-10-02 11:07:15   \n",
       "1    delivered      2018-07-24 20:41:37  2018-07-26 03:24:27   \n",
       "2    delivered      2018-08-08 08:38:49  2018-08-08 08:55:23   \n",
       "3    delivered      2017-11-18 19:28:06  2017-11-18 19:45:59   \n",
       "4    delivered      2018-02-13 21:18:39  2018-02-13 22:20:29   \n",
       "\n",
       "  order_delivered_carrier_date order_delivered_customer_date  \\\n",
       "0          2017-10-04 19:55:00           2017-10-10 21:25:13   \n",
       "1          2018-07-26 14:31:00           2018-08-07 15:27:45   \n",
       "2          2018-08-08 13:50:00           2018-08-17 18:06:29   \n",
       "3          2017-11-22 13:39:59           2017-12-02 00:28:42   \n",
       "4          2018-02-14 19:46:34           2018-02-16 18:17:02   \n",
       "\n",
       "  order_estimated_delivery_date  \n",
       "0           2017-10-18 00:00:00  \n",
       "1           2018-08-13 00:00:00  \n",
       "2           2018-09-04 00:00:00  \n",
       "3           2017-12-15 00:00:00  \n",
       "4           2018-02-26 00:00:00  "
      ]
     },
     "execution_count": 7,
     "metadata": {},
     "output_type": "execute_result"
    }
   ],
   "source": [
    "df_orders.head()"
   ]
  },
  {
   "cell_type": "code",
   "execution_count": 8,
   "id": "3194d987",
   "metadata": {},
   "outputs": [],
   "source": [
    "# 3. Изучаем структуру столбцов"
   ]
  },
  {
   "cell_type": "code",
   "execution_count": 9,
   "id": "b2830b1a",
   "metadata": {},
   "outputs": [
    {
     "name": "stdout",
     "output_type": "stream",
     "text": [
      "<class 'pandas.core.frame.DataFrame'>\n",
      "RangeIndex: 99441 entries, 0 to 99440\n",
      "Data columns (total 5 columns):\n",
      " #   Column                    Non-Null Count  Dtype \n",
      "---  ------                    --------------  ----- \n",
      " 0   customer_id               99441 non-null  object\n",
      " 1   customer_unique_id        99441 non-null  object\n",
      " 2   customer_zip_code_prefix  99441 non-null  int64 \n",
      " 3   customer_city             99441 non-null  object\n",
      " 4   customer_state            99441 non-null  object\n",
      "dtypes: int64(1), object(4)\n",
      "memory usage: 3.8+ MB\n"
     ]
    }
   ],
   "source": [
    "df_customer.info()"
   ]
  },
  {
   "cell_type": "code",
   "execution_count": 10,
   "id": "7e9b2a82",
   "metadata": {},
   "outputs": [
    {
     "name": "stdout",
     "output_type": "stream",
     "text": [
      "<class 'pandas.core.frame.DataFrame'>\n",
      "RangeIndex: 112650 entries, 0 to 112649\n",
      "Data columns (total 7 columns):\n",
      " #   Column               Non-Null Count   Dtype  \n",
      "---  ------               --------------   -----  \n",
      " 0   order_id             112650 non-null  object \n",
      " 1   order_item_id        112650 non-null  int64  \n",
      " 2   product_id           112650 non-null  object \n",
      " 3   seller_id            112650 non-null  object \n",
      " 4   shipping_limit_date  112650 non-null  object \n",
      " 5   price                112650 non-null  float64\n",
      " 6   freight_value        112650 non-null  float64\n",
      "dtypes: float64(2), int64(1), object(4)\n",
      "memory usage: 6.0+ MB\n"
     ]
    }
   ],
   "source": [
    "df_o_items.info()"
   ]
  },
  {
   "cell_type": "code",
   "execution_count": 11,
   "id": "818fc17d",
   "metadata": {},
   "outputs": [
    {
     "name": "stdout",
     "output_type": "stream",
     "text": [
      "<class 'pandas.core.frame.DataFrame'>\n",
      "RangeIndex: 99441 entries, 0 to 99440\n",
      "Data columns (total 8 columns):\n",
      " #   Column                         Non-Null Count  Dtype \n",
      "---  ------                         --------------  ----- \n",
      " 0   order_id                       99441 non-null  object\n",
      " 1   customer_id                    99441 non-null  object\n",
      " 2   order_status                   99441 non-null  object\n",
      " 3   order_purchase_timestamp       99441 non-null  object\n",
      " 4   order_approved_at              99281 non-null  object\n",
      " 5   order_delivered_carrier_date   97658 non-null  object\n",
      " 6   order_delivered_customer_date  96476 non-null  object\n",
      " 7   order_estimated_delivery_date  99441 non-null  object\n",
      "dtypes: object(8)\n",
      "memory usage: 6.1+ MB\n"
     ]
    }
   ],
   "source": [
    "df_orders.info()"
   ]
  },
  {
   "cell_type": "code",
   "execution_count": 12,
   "id": "748de611",
   "metadata": {},
   "outputs": [],
   "source": [
    "# 4. Смотрим количество уникальных покупателей в таблицах покупки и таблице заказчик"
   ]
  },
  {
   "cell_type": "code",
   "execution_count": 13,
   "id": "78d2b586",
   "metadata": {},
   "outputs": [
    {
     "data": {
      "text/plain": [
       "99441"
      ]
     },
     "execution_count": 13,
     "metadata": {},
     "output_type": "execute_result"
    }
   ],
   "source": [
    "df_orders['customer_id'].nunique()"
   ]
  },
  {
   "cell_type": "code",
   "execution_count": 14,
   "id": "4097bd47",
   "metadata": {},
   "outputs": [
    {
     "data": {
      "text/plain": [
       "99441"
      ]
     },
     "execution_count": 14,
     "metadata": {},
     "output_type": "execute_result"
    }
   ],
   "source": [
    "df_customer['customer_id'].nunique()"
   ]
  },
  {
   "cell_type": "code",
   "execution_count": 15,
   "id": "e23d4c48",
   "metadata": {},
   "outputs": [],
   "source": [
    "# 5. Соединяем таблицы покупок и заказчиков"
   ]
  },
  {
   "cell_type": "code",
   "execution_count": 16,
   "id": "515b0a8e",
   "metadata": {},
   "outputs": [],
   "source": [
    "df_customers_full = pd.merge(df_customer, df_orders, how='outer', left_on='customer_id', right_on='customer_id')"
   ]
  },
  {
   "cell_type": "code",
   "execution_count": 17,
   "id": "b491e67f",
   "metadata": {},
   "outputs": [
    {
     "data": {
      "text/plain": [
       "(99441, 12)"
      ]
     },
     "execution_count": 17,
     "metadata": {},
     "output_type": "execute_result"
    }
   ],
   "source": [
    "df_customers_full.shape"
   ]
  },
  {
   "cell_type": "code",
   "execution_count": 18,
   "id": "54599dd7",
   "metadata": {},
   "outputs": [
    {
     "data": {
      "text/plain": [
       "Index(['customer_id', 'customer_unique_id', 'customer_zip_code_prefix',\n",
       "       'customer_city', 'customer_state', 'order_id', 'order_status',\n",
       "       'order_purchase_timestamp', 'order_approved_at',\n",
       "       'order_delivered_carrier_date', 'order_delivered_customer_date',\n",
       "       'order_estimated_delivery_date'],\n",
       "      dtype='object')"
      ]
     },
     "execution_count": 18,
     "metadata": {},
     "output_type": "execute_result"
    }
   ],
   "source": [
    "df_customers_full.columns"
   ]
  },
  {
   "cell_type": "code",
   "execution_count": 19,
   "id": "a0c4684f",
   "metadata": {},
   "outputs": [
    {
     "data": {
      "text/html": [
       "<div>\n",
       "<style scoped>\n",
       "    .dataframe tbody tr th:only-of-type {\n",
       "        vertical-align: middle;\n",
       "    }\n",
       "\n",
       "    .dataframe tbody tr th {\n",
       "        vertical-align: top;\n",
       "    }\n",
       "\n",
       "    .dataframe thead th {\n",
       "        text-align: right;\n",
       "    }\n",
       "</style>\n",
       "<table border=\"1\" class=\"dataframe\">\n",
       "  <thead>\n",
       "    <tr style=\"text-align: right;\">\n",
       "      <th></th>\n",
       "      <th>customer_id</th>\n",
       "      <th>customer_unique_id</th>\n",
       "      <th>customer_zip_code_prefix</th>\n",
       "      <th>customer_city</th>\n",
       "      <th>customer_state</th>\n",
       "      <th>order_id</th>\n",
       "      <th>order_status</th>\n",
       "      <th>order_purchase_timestamp</th>\n",
       "      <th>order_approved_at</th>\n",
       "      <th>order_delivered_carrier_date</th>\n",
       "      <th>order_delivered_customer_date</th>\n",
       "      <th>order_estimated_delivery_date</th>\n",
       "    </tr>\n",
       "  </thead>\n",
       "  <tbody>\n",
       "    <tr>\n",
       "      <th>0</th>\n",
       "      <td>06b8999e2fba1a1fbc88172c00ba8bc7</td>\n",
       "      <td>861eff4711a542e4b93843c6dd7febb0</td>\n",
       "      <td>14409</td>\n",
       "      <td>franca</td>\n",
       "      <td>SP</td>\n",
       "      <td>00e7ee1b050b8499577073aeb2a297a1</td>\n",
       "      <td>delivered</td>\n",
       "      <td>2017-05-16 15:05:35</td>\n",
       "      <td>2017-05-16 15:22:12</td>\n",
       "      <td>2017-05-23 10:47:57</td>\n",
       "      <td>2017-05-25 10:35:35</td>\n",
       "      <td>2017-06-05 00:00:00</td>\n",
       "    </tr>\n",
       "    <tr>\n",
       "      <th>1</th>\n",
       "      <td>18955e83d337fd6b2def6b18a428ac77</td>\n",
       "      <td>290c77bc529b7ac935b93aa66c333dc3</td>\n",
       "      <td>9790</td>\n",
       "      <td>sao bernardo do campo</td>\n",
       "      <td>SP</td>\n",
       "      <td>29150127e6685892b6eab3eec79f59c7</td>\n",
       "      <td>delivered</td>\n",
       "      <td>2018-01-12 20:48:24</td>\n",
       "      <td>2018-01-12 20:58:32</td>\n",
       "      <td>2018-01-15 17:14:59</td>\n",
       "      <td>2018-01-29 12:41:19</td>\n",
       "      <td>2018-02-06 00:00:00</td>\n",
       "    </tr>\n",
       "    <tr>\n",
       "      <th>2</th>\n",
       "      <td>4e7b3e00288586ebd08712fdd0374a03</td>\n",
       "      <td>060e732b5b29e8181a18229c7b0b2b5e</td>\n",
       "      <td>1151</td>\n",
       "      <td>sao paulo</td>\n",
       "      <td>SP</td>\n",
       "      <td>b2059ed67ce144a36e2aa97d2c9e9ad2</td>\n",
       "      <td>delivered</td>\n",
       "      <td>2018-05-19 16:07:45</td>\n",
       "      <td>2018-05-20 16:19:10</td>\n",
       "      <td>2018-06-11 14:31:00</td>\n",
       "      <td>2018-06-14 17:58:51</td>\n",
       "      <td>2018-06-13 00:00:00</td>\n",
       "    </tr>\n",
       "    <tr>\n",
       "      <th>3</th>\n",
       "      <td>b2b6027bc5c5109e529d4dc6358b12c3</td>\n",
       "      <td>259dac757896d24d7702b9acbbff3f3c</td>\n",
       "      <td>8775</td>\n",
       "      <td>mogi das cruzes</td>\n",
       "      <td>SP</td>\n",
       "      <td>951670f92359f4fe4a63112aa7306eba</td>\n",
       "      <td>delivered</td>\n",
       "      <td>2018-03-13 16:06:38</td>\n",
       "      <td>2018-03-13 17:29:19</td>\n",
       "      <td>2018-03-27 23:22:42</td>\n",
       "      <td>2018-03-28 16:04:25</td>\n",
       "      <td>2018-04-10 00:00:00</td>\n",
       "    </tr>\n",
       "    <tr>\n",
       "      <th>4</th>\n",
       "      <td>4f2d8ab171c80ec8364f7c12e35b23ad</td>\n",
       "      <td>345ecd01c38d18a9036ed96c73b8d066</td>\n",
       "      <td>13056</td>\n",
       "      <td>campinas</td>\n",
       "      <td>SP</td>\n",
       "      <td>6b7d50bd145f6fc7f33cebabd7e49d0f</td>\n",
       "      <td>delivered</td>\n",
       "      <td>2018-07-29 09:51:30</td>\n",
       "      <td>2018-07-29 10:10:09</td>\n",
       "      <td>2018-07-30 15:16:00</td>\n",
       "      <td>2018-08-09 20:55:48</td>\n",
       "      <td>2018-08-15 00:00:00</td>\n",
       "    </tr>\n",
       "  </tbody>\n",
       "</table>\n",
       "</div>"
      ],
      "text/plain": [
       "                        customer_id                customer_unique_id  \\\n",
       "0  06b8999e2fba1a1fbc88172c00ba8bc7  861eff4711a542e4b93843c6dd7febb0   \n",
       "1  18955e83d337fd6b2def6b18a428ac77  290c77bc529b7ac935b93aa66c333dc3   \n",
       "2  4e7b3e00288586ebd08712fdd0374a03  060e732b5b29e8181a18229c7b0b2b5e   \n",
       "3  b2b6027bc5c5109e529d4dc6358b12c3  259dac757896d24d7702b9acbbff3f3c   \n",
       "4  4f2d8ab171c80ec8364f7c12e35b23ad  345ecd01c38d18a9036ed96c73b8d066   \n",
       "\n",
       "   customer_zip_code_prefix          customer_city customer_state  \\\n",
       "0                     14409                 franca             SP   \n",
       "1                      9790  sao bernardo do campo             SP   \n",
       "2                      1151              sao paulo             SP   \n",
       "3                      8775        mogi das cruzes             SP   \n",
       "4                     13056               campinas             SP   \n",
       "\n",
       "                           order_id order_status order_purchase_timestamp  \\\n",
       "0  00e7ee1b050b8499577073aeb2a297a1    delivered      2017-05-16 15:05:35   \n",
       "1  29150127e6685892b6eab3eec79f59c7    delivered      2018-01-12 20:48:24   \n",
       "2  b2059ed67ce144a36e2aa97d2c9e9ad2    delivered      2018-05-19 16:07:45   \n",
       "3  951670f92359f4fe4a63112aa7306eba    delivered      2018-03-13 16:06:38   \n",
       "4  6b7d50bd145f6fc7f33cebabd7e49d0f    delivered      2018-07-29 09:51:30   \n",
       "\n",
       "     order_approved_at order_delivered_carrier_date  \\\n",
       "0  2017-05-16 15:22:12          2017-05-23 10:47:57   \n",
       "1  2018-01-12 20:58:32          2018-01-15 17:14:59   \n",
       "2  2018-05-20 16:19:10          2018-06-11 14:31:00   \n",
       "3  2018-03-13 17:29:19          2018-03-27 23:22:42   \n",
       "4  2018-07-29 10:10:09          2018-07-30 15:16:00   \n",
       "\n",
       "  order_delivered_customer_date order_estimated_delivery_date  \n",
       "0           2017-05-25 10:35:35           2017-06-05 00:00:00  \n",
       "1           2018-01-29 12:41:19           2018-02-06 00:00:00  \n",
       "2           2018-06-14 17:58:51           2018-06-13 00:00:00  \n",
       "3           2018-03-28 16:04:25           2018-04-10 00:00:00  \n",
       "4           2018-08-09 20:55:48           2018-08-15 00:00:00  "
      ]
     },
     "execution_count": 19,
     "metadata": {},
     "output_type": "execute_result"
    }
   ],
   "source": [
    "df_customers_full.head()"
   ]
  },
  {
   "cell_type": "code",
   "execution_count": 20,
   "id": "a1c55876",
   "metadata": {},
   "outputs": [],
   "source": [
    "# 6. Проверяем есть ли клиенты без заказов"
   ]
  },
  {
   "cell_type": "code",
   "execution_count": 21,
   "id": "a04c4379",
   "metadata": {},
   "outputs": [
    {
     "data": {
      "text/plain": [
       "Series([], Name: order_status, dtype: int64)"
      ]
     },
     "execution_count": 21,
     "metadata": {},
     "output_type": "execute_result"
    }
   ],
   "source": [
    "df_customers_full['order_status'][df_customers_full['order_id'].isnull()].value_counts()"
   ]
  },
  {
   "cell_type": "code",
   "execution_count": 22,
   "id": "88b4576a",
   "metadata": {},
   "outputs": [],
   "source": [
    "# 7. Статусы покупок"
   ]
  },
  {
   "cell_type": "code",
   "execution_count": 23,
   "id": "5deb5bc6",
   "metadata": {},
   "outputs": [
    {
     "data": {
      "text/plain": [
       "delivered      96478\n",
       "shipped         1107\n",
       "canceled         625\n",
       "unavailable      609\n",
       "invoiced         314\n",
       "processing       301\n",
       "created            5\n",
       "approved           2\n",
       "Name: order_status, dtype: int64"
      ]
     },
     "execution_count": 23,
     "metadata": {},
     "output_type": "execute_result"
    }
   ],
   "source": [
    "df_customers_full['order_status'].value_counts()"
   ]
  },
  {
   "cell_type": "code",
   "execution_count": 24,
   "id": "63665957",
   "metadata": {},
   "outputs": [],
   "source": [
    "# 8. min/max дата покупки в таблице"
   ]
  },
  {
   "cell_type": "code",
   "execution_count": 25,
   "id": "0bd63bd3",
   "metadata": {},
   "outputs": [
    {
     "data": {
      "text/plain": [
       "'2016-09-04 21:15:19'"
      ]
     },
     "execution_count": 25,
     "metadata": {},
     "output_type": "execute_result"
    }
   ],
   "source": [
    "df_customers_full['order_purchase_timestamp'].min()"
   ]
  },
  {
   "cell_type": "code",
   "execution_count": 26,
   "id": "b04409b7",
   "metadata": {},
   "outputs": [
    {
     "data": {
      "text/plain": [
       "'2018-10-17 17:30:18'"
      ]
     },
     "execution_count": 26,
     "metadata": {},
     "output_type": "execute_result"
    }
   ],
   "source": [
    "df_customers_full['order_purchase_timestamp'].max()"
   ]
  },
  {
   "cell_type": "code",
   "execution_count": 27,
   "id": "2da63197",
   "metadata": {},
   "outputs": [],
   "source": [
    "# 9. Выбираем данные с покупками совершенными в 17м году"
   ]
  },
  {
   "cell_type": "code",
   "execution_count": 28,
   "id": "8c05abb1",
   "metadata": {},
   "outputs": [],
   "source": [
    "df_customers_full = df_customers_full[(df_customers_full['order_purchase_timestamp']>='2017-01-01') & (df_customers_full['order_purchase_timestamp']<'2018-01-01')]"
   ]
  },
  {
   "cell_type": "code",
   "execution_count": 29,
   "id": "068c7e42",
   "metadata": {},
   "outputs": [
    {
     "data": {
      "text/plain": [
       "(45101, 12)"
      ]
     },
     "execution_count": 29,
     "metadata": {},
     "output_type": "execute_result"
    }
   ],
   "source": [
    "df_customers_full.shape"
   ]
  },
  {
   "cell_type": "code",
   "execution_count": 30,
   "id": "d119b6d9",
   "metadata": {},
   "outputs": [],
   "source": [
    "# 10. Считаем к-во заказов по статусам"
   ]
  },
  {
   "cell_type": "code",
   "execution_count": 31,
   "id": "eeb9a2cb",
   "metadata": {},
   "outputs": [],
   "source": [
    "orders_status = dict(df_customers_full['order_status'].value_counts())"
   ]
  },
  {
   "cell_type": "code",
   "execution_count": 32,
   "id": "8c1b71e9",
   "metadata": {},
   "outputs": [
    {
     "name": "stdout",
     "output_type": "stream",
     "text": [
      "{'delivered': 43428, 'shipped': 530, 'unavailable': 457, 'canceled': 265, 'processing': 240, 'invoiced': 175, 'created': 4, 'approved': 2}\n"
     ]
    }
   ],
   "source": [
    "print(orders_status)"
   ]
  },
  {
   "cell_type": "code",
   "execution_count": 33,
   "id": "9ec95d76",
   "metadata": {},
   "outputs": [],
   "source": [
    "# keep delivered, shipped, processing, invoiced, created, approved"
   ]
  },
  {
   "cell_type": "code",
   "execution_count": 34,
   "id": "c91f1546",
   "metadata": {},
   "outputs": [],
   "source": [
    "# 11. Сheck unique status of order"
   ]
  },
  {
   "cell_type": "code",
   "execution_count": 35,
   "id": "5c92ee1f",
   "metadata": {},
   "outputs": [
    {
     "data": {
      "text/plain": [
       "45101"
      ]
     },
     "execution_count": 35,
     "metadata": {},
     "output_type": "execute_result"
    }
   ],
   "source": [
    "len(df_customers_full.groupby(['order_id','customer_id']))  "
   ]
  },
  {
   "cell_type": "code",
   "execution_count": 36,
   "id": "b1fd3ed2",
   "metadata": {},
   "outputs": [
    {
     "data": {
      "text/plain": [
       "order_status\n",
       "approved       2017-02-06 20:18:17\n",
       "canceled       2017-01-11 18:32:24\n",
       "created        2017-11-06 13:12:34\n",
       "delivered      2017-01-05 11:56:06\n",
       "invoiced       2017-01-12 15:05:52\n",
       "processing     2017-01-11 15:18:25\n",
       "shipped        2017-01-08 19:27:22\n",
       "unavailable    2017-01-20 10:31:53\n",
       "Name: order_purchase_timestamp, dtype: object"
      ]
     },
     "execution_count": 36,
     "metadata": {},
     "output_type": "execute_result"
    }
   ],
   "source": [
    "df_customers_full.groupby('order_status')['order_purchase_timestamp'].agg('min')"
   ]
  },
  {
   "cell_type": "code",
   "execution_count": 37,
   "id": "c56e9488",
   "metadata": {},
   "outputs": [
    {
     "data": {
      "text/plain": [
       "order_status\n",
       "approved       2017-04-25 01:25:34\n",
       "canceled       2017-12-31 12:12:02\n",
       "created        2017-12-05 01:07:58\n",
       "delivered      2017-12-31 23:29:31\n",
       "invoiced       2017-12-27 15:02:03\n",
       "processing     2017-12-29 11:24:15\n",
       "shipped        2017-12-31 15:16:07\n",
       "unavailable    2017-12-30 10:52:01\n",
       "Name: order_purchase_timestamp, dtype: object"
      ]
     },
     "execution_count": 37,
     "metadata": {},
     "output_type": "execute_result"
    }
   ],
   "source": [
    "df_customers_full.groupby('order_status')['order_purchase_timestamp'].agg('max')"
   ]
  },
  {
   "cell_type": "code",
   "execution_count": 38,
   "id": "4b14b965",
   "metadata": {},
   "outputs": [],
   "source": [
    "# 12. Проверим заказы со статусами отличными от delivered or canceled"
   ]
  },
  {
   "cell_type": "code",
   "execution_count": 39,
   "id": "afb416e0",
   "metadata": {},
   "outputs": [],
   "source": [
    "not_delivered = df_customers_full[['order_status', 'order_purchase_timestamp', 'order_estimated_delivery_date']][~df_customers_full['order_status'].isin(['delivered', 'canceled'])]"
   ]
  },
  {
   "cell_type": "code",
   "execution_count": 40,
   "id": "d5a9265b",
   "metadata": {},
   "outputs": [
    {
     "data": {
      "text/plain": [
       "(1408, 3)"
      ]
     },
     "execution_count": 40,
     "metadata": {},
     "output_type": "execute_result"
    }
   ],
   "source": [
    "not_delivered.shape"
   ]
  },
  {
   "cell_type": "code",
   "execution_count": 41,
   "id": "b61516cc",
   "metadata": {},
   "outputs": [
    {
     "data": {
      "text/html": [
       "<div>\n",
       "<style scoped>\n",
       "    .dataframe tbody tr th:only-of-type {\n",
       "        vertical-align: middle;\n",
       "    }\n",
       "\n",
       "    .dataframe tbody tr th {\n",
       "        vertical-align: top;\n",
       "    }\n",
       "\n",
       "    .dataframe thead th {\n",
       "        text-align: right;\n",
       "    }\n",
       "</style>\n",
       "<table border=\"1\" class=\"dataframe\">\n",
       "  <thead>\n",
       "    <tr style=\"text-align: right;\">\n",
       "      <th></th>\n",
       "      <th>order_status</th>\n",
       "      <th>order_purchase_timestamp</th>\n",
       "      <th>order_estimated_delivery_date</th>\n",
       "    </tr>\n",
       "  </thead>\n",
       "  <tbody>\n",
       "    <tr>\n",
       "      <th>100</th>\n",
       "      <td>shipped</td>\n",
       "      <td>2017-08-11 23:47:48</td>\n",
       "      <td>2017-09-11 00:00:00</td>\n",
       "    </tr>\n",
       "    <tr>\n",
       "      <th>113</th>\n",
       "      <td>shipped</td>\n",
       "      <td>2017-12-21 09:01:00</td>\n",
       "      <td>2018-01-10 00:00:00</td>\n",
       "    </tr>\n",
       "    <tr>\n",
       "      <th>133</th>\n",
       "      <td>invoiced</td>\n",
       "      <td>2017-09-01 15:02:24</td>\n",
       "      <td>2017-09-15 00:00:00</td>\n",
       "    </tr>\n",
       "    <tr>\n",
       "      <th>246</th>\n",
       "      <td>processing</td>\n",
       "      <td>2017-12-04 10:09:35</td>\n",
       "      <td>2018-01-05 00:00:00</td>\n",
       "    </tr>\n",
       "    <tr>\n",
       "      <th>288</th>\n",
       "      <td>unavailable</td>\n",
       "      <td>2017-02-01 00:04:17</td>\n",
       "      <td>2017-03-10 00:00:00</td>\n",
       "    </tr>\n",
       "  </tbody>\n",
       "</table>\n",
       "</div>"
      ],
      "text/plain": [
       "    order_status order_purchase_timestamp order_estimated_delivery_date\n",
       "100      shipped      2017-08-11 23:47:48           2017-09-11 00:00:00\n",
       "113      shipped      2017-12-21 09:01:00           2018-01-10 00:00:00\n",
       "133     invoiced      2017-09-01 15:02:24           2017-09-15 00:00:00\n",
       "246   processing      2017-12-04 10:09:35           2018-01-05 00:00:00\n",
       "288  unavailable      2017-02-01 00:04:17           2017-03-10 00:00:00"
      ]
     },
     "execution_count": 41,
     "metadata": {},
     "output_type": "execute_result"
    }
   ],
   "source": [
    "not_delivered.head()"
   ]
  },
  {
   "cell_type": "code",
   "execution_count": 42,
   "id": "392c4ca4",
   "metadata": {},
   "outputs": [],
   "source": [
    "not_delivered[['order_purchase_timestamp', 'order_estimated_delivery_date']] = not_delivered[[ 'order_purchase_timestamp', 'order_estimated_delivery_date']].apply(pd.to_datetime)\n",
    "not_delivered['datediff'] = (not_delivered['order_estimated_delivery_date'] - not_delivered['order_purchase_timestamp']).dt.days"
   ]
  },
  {
   "cell_type": "code",
   "execution_count": 43,
   "id": "0a528486",
   "metadata": {},
   "outputs": [
    {
     "data": {
      "text/html": [
       "<div>\n",
       "<style scoped>\n",
       "    .dataframe tbody tr th:only-of-type {\n",
       "        vertical-align: middle;\n",
       "    }\n",
       "\n",
       "    .dataframe tbody tr th {\n",
       "        vertical-align: top;\n",
       "    }\n",
       "\n",
       "    .dataframe thead th {\n",
       "        text-align: right;\n",
       "    }\n",
       "</style>\n",
       "<table border=\"1\" class=\"dataframe\">\n",
       "  <thead>\n",
       "    <tr style=\"text-align: right;\">\n",
       "      <th></th>\n",
       "      <th>order_status</th>\n",
       "      <th>order_purchase_timestamp</th>\n",
       "      <th>order_estimated_delivery_date</th>\n",
       "      <th>datediff</th>\n",
       "    </tr>\n",
       "  </thead>\n",
       "  <tbody>\n",
       "    <tr>\n",
       "      <th>3645</th>\n",
       "      <td>processing</td>\n",
       "      <td>2017-03-30 15:23:23</td>\n",
       "      <td>2017-08-22</td>\n",
       "      <td>144</td>\n",
       "    </tr>\n",
       "    <tr>\n",
       "      <th>9742</th>\n",
       "      <td>shipped</td>\n",
       "      <td>2017-03-14 19:23:22</td>\n",
       "      <td>2017-08-04</td>\n",
       "      <td>142</td>\n",
       "    </tr>\n",
       "    <tr>\n",
       "      <th>44213</th>\n",
       "      <td>processing</td>\n",
       "      <td>2017-02-10 11:11:05</td>\n",
       "      <td>2017-05-11</td>\n",
       "      <td>89</td>\n",
       "    </tr>\n",
       "    <tr>\n",
       "      <th>33009</th>\n",
       "      <td>processing</td>\n",
       "      <td>2017-02-23 12:18:09</td>\n",
       "      <td>2017-05-03</td>\n",
       "      <td>68</td>\n",
       "    </tr>\n",
       "    <tr>\n",
       "      <th>34764</th>\n",
       "      <td>processing</td>\n",
       "      <td>2017-02-01 15:21:50</td>\n",
       "      <td>2017-04-07</td>\n",
       "      <td>64</td>\n",
       "    </tr>\n",
       "  </tbody>\n",
       "</table>\n",
       "</div>"
      ],
      "text/plain": [
       "      order_status order_purchase_timestamp order_estimated_delivery_date  \\\n",
       "3645    processing      2017-03-30 15:23:23                    2017-08-22   \n",
       "9742       shipped      2017-03-14 19:23:22                    2017-08-04   \n",
       "44213   processing      2017-02-10 11:11:05                    2017-05-11   \n",
       "33009   processing      2017-02-23 12:18:09                    2017-05-03   \n",
       "34764   processing      2017-02-01 15:21:50                    2017-04-07   \n",
       "\n",
       "       datediff  \n",
       "3645        144  \n",
       "9742        142  \n",
       "44213        89  \n",
       "33009        68  \n",
       "34764        64  "
      ]
     },
     "execution_count": 43,
     "metadata": {},
     "output_type": "execute_result"
    }
   ],
   "source": [
    "not_delivered.sort_values(by=['datediff'], ascending=False).head()"
   ]
  },
  {
   "cell_type": "code",
   "execution_count": 44,
   "id": "8cae66e6",
   "metadata": {},
   "outputs": [],
   "source": [
    "# 13. Исключим заказы с 'order_estimated_delivery_date' меньше конца 2017 года и со статусами approved, created, invoiced, processing, shipped, unavailable"
   ]
  },
  {
   "cell_type": "code",
   "execution_count": 45,
   "id": "a3e7698f",
   "metadata": {},
   "outputs": [],
   "source": [
    "exclude_orders = not_delivered[not_delivered['order_estimated_delivery_date']<'2018-01-01'].sort_values(by=['order_estimated_delivery_date'], ascending=False)"
   ]
  },
  {
   "cell_type": "code",
   "execution_count": 46,
   "id": "64eea136",
   "metadata": {},
   "outputs": [
    {
     "name": "stdout",
     "output_type": "stream",
     "text": [
      "      order_status order_purchase_timestamp order_estimated_delivery_date  \\\n",
      "45228  unavailable      2017-11-24 21:03:55                    2017-12-29   \n",
      "33766     invoiced      2017-12-05 21:34:58                    2017-12-29   \n",
      "52441     invoiced      2017-12-10 18:43:03                    2017-12-29   \n",
      "20795     invoiced      2017-12-03 21:20:17                    2017-12-29   \n",
      "7582       shipped      2017-12-05 15:48:44                    2017-12-29   \n",
      "...            ...                      ...                           ...   \n",
      "24742  unavailable      2017-01-20 10:31:53                    2017-02-22   \n",
      "32562      shipped      2017-01-14 12:17:10                    2017-02-22   \n",
      "26110      shipped      2017-01-08 19:27:22                    2017-02-21   \n",
      "54026  unavailable      2017-01-26 16:51:32                    2017-02-21   \n",
      "81814      shipped      2017-01-13 20:12:41                    2017-02-09   \n",
      "\n",
      "       datediff  \n",
      "45228        34  \n",
      "33766        23  \n",
      "52441        18  \n",
      "20795        25  \n",
      "7582         23  \n",
      "...         ...  \n",
      "24742        32  \n",
      "32562        38  \n",
      "26110        43  \n",
      "54026        25  \n",
      "81814        26  \n",
      "\n",
      "[1292 rows x 4 columns]\n"
     ]
    }
   ],
   "source": [
    "print(exclude_orders)"
   ]
  },
  {
   "cell_type": "code",
   "execution_count": 47,
   "id": "e831ac85",
   "metadata": {},
   "outputs": [
    {
     "data": {
      "text/plain": [
       "Int64Index([45228, 33766, 52441, 20795,  7582, 96658, 68795, 22581, 69249,\n",
       "            51683,\n",
       "            ...\n",
       "             1163, 90599, 35371,  9738, 96859, 24742, 32562, 26110, 54026,\n",
       "            81814],\n",
       "           dtype='int64', length=1292)"
      ]
     },
     "execution_count": 47,
     "metadata": {},
     "output_type": "execute_result"
    }
   ],
   "source": [
    "exclude_orders.index"
   ]
  },
  {
   "cell_type": "code",
   "execution_count": 48,
   "id": "a3ee691b",
   "metadata": {},
   "outputs": [
    {
     "data": {
      "text/plain": [
       "(45101, 12)"
      ]
     },
     "execution_count": 48,
     "metadata": {},
     "output_type": "execute_result"
    }
   ],
   "source": [
    "df_customers_full.shape"
   ]
  },
  {
   "cell_type": "code",
   "execution_count": 49,
   "id": "4441f462",
   "metadata": {},
   "outputs": [],
   "source": [
    "df_customers_full.drop(exclude_orders.index, inplace=True)"
   ]
  },
  {
   "cell_type": "code",
   "execution_count": 50,
   "id": "b5035243",
   "metadata": {},
   "outputs": [],
   "source": [
    "# 14. Also exclude orders with status canceled"
   ]
  },
  {
   "cell_type": "code",
   "execution_count": 51,
   "id": "27ccd575",
   "metadata": {},
   "outputs": [],
   "source": [
    "df_customers_full = df_customers_full[df_customers_full['order_status']!='canceled']"
   ]
  },
  {
   "cell_type": "code",
   "execution_count": 52,
   "id": "4b974952",
   "metadata": {},
   "outputs": [
    {
     "data": {
      "text/plain": [
       "(43544, 12)"
      ]
     },
     "execution_count": 52,
     "metadata": {},
     "output_type": "execute_result"
    }
   ],
   "source": [
    "df_customers_full.shape"
   ]
  },
  {
   "cell_type": "code",
   "execution_count": 53,
   "id": "a0bf0c7d",
   "metadata": {},
   "outputs": [],
   "source": [
    "# 15. Находим первую покупку клиента в 2017 году"
   ]
  },
  {
   "cell_type": "code",
   "execution_count": 54,
   "id": "a8a514ba",
   "metadata": {},
   "outputs": [],
   "source": [
    "min_purchase_date = df_customers_full.groupby(['customer_unique_id'])['order_purchase_timestamp'].agg(min).reset_index()"
   ]
  },
  {
   "cell_type": "code",
   "execution_count": 55,
   "id": "5b8f2461",
   "metadata": {},
   "outputs": [
    {
     "data": {
      "text/html": [
       "<div>\n",
       "<style scoped>\n",
       "    .dataframe tbody tr th:only-of-type {\n",
       "        vertical-align: middle;\n",
       "    }\n",
       "\n",
       "    .dataframe tbody tr th {\n",
       "        vertical-align: top;\n",
       "    }\n",
       "\n",
       "    .dataframe thead th {\n",
       "        text-align: right;\n",
       "    }\n",
       "</style>\n",
       "<table border=\"1\" class=\"dataframe\">\n",
       "  <thead>\n",
       "    <tr style=\"text-align: right;\">\n",
       "      <th></th>\n",
       "      <th>customer_unique_id</th>\n",
       "      <th>order_purchase_timestamp</th>\n",
       "    </tr>\n",
       "  </thead>\n",
       "  <tbody>\n",
       "    <tr>\n",
       "      <th>0</th>\n",
       "      <td>0000f46a3911fa3c0805444483337064</td>\n",
       "      <td>2017-03-10 21:05:03</td>\n",
       "    </tr>\n",
       "    <tr>\n",
       "      <th>1</th>\n",
       "      <td>0000f6ccb0745a6a4b88665a16c9f078</td>\n",
       "      <td>2017-10-12 20:29:41</td>\n",
       "    </tr>\n",
       "    <tr>\n",
       "      <th>2</th>\n",
       "      <td>0004aac84e0df4da2b147fca70cf8255</td>\n",
       "      <td>2017-11-14 19:45:42</td>\n",
       "    </tr>\n",
       "    <tr>\n",
       "      <th>3</th>\n",
       "      <td>0005e1862207bf6ccc02e4228effd9a0</td>\n",
       "      <td>2017-03-04 23:32:12</td>\n",
       "    </tr>\n",
       "    <tr>\n",
       "      <th>4</th>\n",
       "      <td>0006fdc98a402fceb4eb0ee528f6a8d4</td>\n",
       "      <td>2017-07-18 09:23:10</td>\n",
       "    </tr>\n",
       "  </tbody>\n",
       "</table>\n",
       "</div>"
      ],
      "text/plain": [
       "                 customer_unique_id order_purchase_timestamp\n",
       "0  0000f46a3911fa3c0805444483337064      2017-03-10 21:05:03\n",
       "1  0000f6ccb0745a6a4b88665a16c9f078      2017-10-12 20:29:41\n",
       "2  0004aac84e0df4da2b147fca70cf8255      2017-11-14 19:45:42\n",
       "3  0005e1862207bf6ccc02e4228effd9a0      2017-03-04 23:32:12\n",
       "4  0006fdc98a402fceb4eb0ee528f6a8d4      2017-07-18 09:23:10"
      ]
     },
     "execution_count": 55,
     "metadata": {},
     "output_type": "execute_result"
    }
   ],
   "source": [
    "min_purchase_date.head()"
   ]
  },
  {
   "cell_type": "code",
   "execution_count": 56,
   "id": "d72e8125",
   "metadata": {},
   "outputs": [],
   "source": [
    "min_purchase_date.rename(columns = {'order_purchase_timestamp':'min_order_purchase_timestamp'}, inplace = True)"
   ]
  },
  {
   "cell_type": "code",
   "execution_count": 57,
   "id": "248ef5a7",
   "metadata": {},
   "outputs": [],
   "source": [
    "df_customers_full = pd.merge(df_customers_full, min_purchase_date, how='outer', left_on='customer_unique_id', right_on='customer_unique_id')"
   ]
  },
  {
   "cell_type": "code",
   "execution_count": 58,
   "id": "893472cf",
   "metadata": {},
   "outputs": [
    {
     "data": {
      "text/plain": [
       "Index(['customer_id', 'customer_unique_id', 'customer_zip_code_prefix',\n",
       "       'customer_city', 'customer_state', 'order_id', 'order_status',\n",
       "       'order_purchase_timestamp', 'order_approved_at',\n",
       "       'order_delivered_carrier_date', 'order_delivered_customer_date',\n",
       "       'order_estimated_delivery_date', 'min_order_purchase_timestamp'],\n",
       "      dtype='object')"
      ]
     },
     "execution_count": 58,
     "metadata": {},
     "output_type": "execute_result"
    }
   ],
   "source": [
    "df_customers_full.columns"
   ]
  },
  {
   "cell_type": "code",
   "execution_count": 59,
   "id": "3048dc2c",
   "metadata": {},
   "outputs": [],
   "source": [
    "# 16. Выделяем когорты по месяцам"
   ]
  },
  {
   "cell_type": "code",
   "execution_count": 60,
   "id": "a0b1422c",
   "metadata": {},
   "outputs": [],
   "source": [
    "df_customers_full['min_order_purchase_timestamp']=pd.to_datetime(df_customers_full['min_order_purchase_timestamp'])"
   ]
  },
  {
   "cell_type": "code",
   "execution_count": 61,
   "id": "ae912860",
   "metadata": {},
   "outputs": [],
   "source": [
    "df_customers_full['cohort']=df_customers_full['min_order_purchase_timestamp'].dt.to_period('M').dt.to_timestamp()"
   ]
  },
  {
   "cell_type": "code",
   "execution_count": 62,
   "id": "cc866a84",
   "metadata": {},
   "outputs": [
    {
     "data": {
      "text/html": [
       "<div>\n",
       "<style scoped>\n",
       "    .dataframe tbody tr th:only-of-type {\n",
       "        vertical-align: middle;\n",
       "    }\n",
       "\n",
       "    .dataframe tbody tr th {\n",
       "        vertical-align: top;\n",
       "    }\n",
       "\n",
       "    .dataframe thead th {\n",
       "        text-align: right;\n",
       "    }\n",
       "</style>\n",
       "<table border=\"1\" class=\"dataframe\">\n",
       "  <thead>\n",
       "    <tr style=\"text-align: right;\">\n",
       "      <th></th>\n",
       "      <th>customer_id</th>\n",
       "      <th>customer_unique_id</th>\n",
       "      <th>customer_zip_code_prefix</th>\n",
       "      <th>customer_city</th>\n",
       "      <th>customer_state</th>\n",
       "      <th>order_id</th>\n",
       "      <th>order_status</th>\n",
       "      <th>order_purchase_timestamp</th>\n",
       "      <th>order_approved_at</th>\n",
       "      <th>order_delivered_carrier_date</th>\n",
       "      <th>order_delivered_customer_date</th>\n",
       "      <th>order_estimated_delivery_date</th>\n",
       "      <th>min_order_purchase_timestamp</th>\n",
       "      <th>cohort</th>\n",
       "    </tr>\n",
       "  </thead>\n",
       "  <tbody>\n",
       "    <tr>\n",
       "      <th>0</th>\n",
       "      <td>06b8999e2fba1a1fbc88172c00ba8bc7</td>\n",
       "      <td>861eff4711a542e4b93843c6dd7febb0</td>\n",
       "      <td>14409</td>\n",
       "      <td>franca</td>\n",
       "      <td>SP</td>\n",
       "      <td>00e7ee1b050b8499577073aeb2a297a1</td>\n",
       "      <td>delivered</td>\n",
       "      <td>2017-05-16 15:05:35</td>\n",
       "      <td>2017-05-16 15:22:12</td>\n",
       "      <td>2017-05-23 10:47:57</td>\n",
       "      <td>2017-05-25 10:35:35</td>\n",
       "      <td>2017-06-05 00:00:00</td>\n",
       "      <td>2017-05-16 15:05:35</td>\n",
       "      <td>2017-05-01</td>\n",
       "    </tr>\n",
       "    <tr>\n",
       "      <th>1</th>\n",
       "      <td>879864dab9bc3047522c92c82e1212b8</td>\n",
       "      <td>4c93744516667ad3b8f1fb645a3116a4</td>\n",
       "      <td>89254</td>\n",
       "      <td>jaragua do sul</td>\n",
       "      <td>SC</td>\n",
       "      <td>5741ea1f91b5fbab2bd2dc653a5b5099</td>\n",
       "      <td>delivered</td>\n",
       "      <td>2017-09-14 18:14:31</td>\n",
       "      <td>2017-09-14 18:25:11</td>\n",
       "      <td>2017-09-18 21:27:40</td>\n",
       "      <td>2017-09-28 17:32:43</td>\n",
       "      <td>2017-10-04 00:00:00</td>\n",
       "      <td>2017-09-14 18:14:31</td>\n",
       "      <td>2017-09-01</td>\n",
       "    </tr>\n",
       "    <tr>\n",
       "      <th>2</th>\n",
       "      <td>802bb9a59876a712f8380da8f297057c</td>\n",
       "      <td>4c93744516667ad3b8f1fb645a3116a4</td>\n",
       "      <td>89253</td>\n",
       "      <td>jaragua do sul</td>\n",
       "      <td>SC</td>\n",
       "      <td>98b737f8bd00d73d9f61f7344aadf717</td>\n",
       "      <td>delivered</td>\n",
       "      <td>2017-10-15 12:44:13</td>\n",
       "      <td>2017-10-15 13:05:29</td>\n",
       "      <td>2017-10-17 20:05:34</td>\n",
       "      <td>2017-10-25 17:00:04</td>\n",
       "      <td>2017-11-08 00:00:00</td>\n",
       "      <td>2017-09-14 18:14:31</td>\n",
       "      <td>2017-09-01</td>\n",
       "    </tr>\n",
       "    <tr>\n",
       "      <th>3</th>\n",
       "      <td>5e274e7a0c3809e14aba7ad5aae0d407</td>\n",
       "      <td>57b2a98a409812fe9618067b6b8ebe4f</td>\n",
       "      <td>35182</td>\n",
       "      <td>timoteo</td>\n",
       "      <td>MG</td>\n",
       "      <td>1093c8304c7a003280dd34598194913d</td>\n",
       "      <td>delivered</td>\n",
       "      <td>2017-11-16 19:29:02</td>\n",
       "      <td>2017-11-16 19:55:41</td>\n",
       "      <td>2017-11-22 16:46:33</td>\n",
       "      <td>2017-11-27 12:44:36</td>\n",
       "      <td>2017-12-08 00:00:00</td>\n",
       "      <td>2017-11-16 19:29:02</td>\n",
       "      <td>2017-11-01</td>\n",
       "    </tr>\n",
       "    <tr>\n",
       "      <th>4</th>\n",
       "      <td>9fb35e4ed6f0a14a4977cd9aea4042bb</td>\n",
       "      <td>2a7745e1ed516b289ed9b29c7d0539a5</td>\n",
       "      <td>39400</td>\n",
       "      <td>montes claros</td>\n",
       "      <td>MG</td>\n",
       "      <td>8428e578bb1cf839ae26a6b7615502b9</td>\n",
       "      <td>delivered</td>\n",
       "      <td>2017-11-27 17:23:20</td>\n",
       "      <td>2017-11-27 18:01:20</td>\n",
       "      <td>2017-11-28 23:04:41</td>\n",
       "      <td>2017-12-08 22:16:17</td>\n",
       "      <td>2017-12-20 00:00:00</td>\n",
       "      <td>2017-11-27 17:23:20</td>\n",
       "      <td>2017-11-01</td>\n",
       "    </tr>\n",
       "  </tbody>\n",
       "</table>\n",
       "</div>"
      ],
      "text/plain": [
       "                        customer_id                customer_unique_id  \\\n",
       "0  06b8999e2fba1a1fbc88172c00ba8bc7  861eff4711a542e4b93843c6dd7febb0   \n",
       "1  879864dab9bc3047522c92c82e1212b8  4c93744516667ad3b8f1fb645a3116a4   \n",
       "2  802bb9a59876a712f8380da8f297057c  4c93744516667ad3b8f1fb645a3116a4   \n",
       "3  5e274e7a0c3809e14aba7ad5aae0d407  57b2a98a409812fe9618067b6b8ebe4f   \n",
       "4  9fb35e4ed6f0a14a4977cd9aea4042bb  2a7745e1ed516b289ed9b29c7d0539a5   \n",
       "\n",
       "   customer_zip_code_prefix   customer_city customer_state  \\\n",
       "0                     14409          franca             SP   \n",
       "1                     89254  jaragua do sul             SC   \n",
       "2                     89253  jaragua do sul             SC   \n",
       "3                     35182         timoteo             MG   \n",
       "4                     39400   montes claros             MG   \n",
       "\n",
       "                           order_id order_status order_purchase_timestamp  \\\n",
       "0  00e7ee1b050b8499577073aeb2a297a1    delivered      2017-05-16 15:05:35   \n",
       "1  5741ea1f91b5fbab2bd2dc653a5b5099    delivered      2017-09-14 18:14:31   \n",
       "2  98b737f8bd00d73d9f61f7344aadf717    delivered      2017-10-15 12:44:13   \n",
       "3  1093c8304c7a003280dd34598194913d    delivered      2017-11-16 19:29:02   \n",
       "4  8428e578bb1cf839ae26a6b7615502b9    delivered      2017-11-27 17:23:20   \n",
       "\n",
       "     order_approved_at order_delivered_carrier_date  \\\n",
       "0  2017-05-16 15:22:12          2017-05-23 10:47:57   \n",
       "1  2017-09-14 18:25:11          2017-09-18 21:27:40   \n",
       "2  2017-10-15 13:05:29          2017-10-17 20:05:34   \n",
       "3  2017-11-16 19:55:41          2017-11-22 16:46:33   \n",
       "4  2017-11-27 18:01:20          2017-11-28 23:04:41   \n",
       "\n",
       "  order_delivered_customer_date order_estimated_delivery_date  \\\n",
       "0           2017-05-25 10:35:35           2017-06-05 00:00:00   \n",
       "1           2017-09-28 17:32:43           2017-10-04 00:00:00   \n",
       "2           2017-10-25 17:00:04           2017-11-08 00:00:00   \n",
       "3           2017-11-27 12:44:36           2017-12-08 00:00:00   \n",
       "4           2017-12-08 22:16:17           2017-12-20 00:00:00   \n",
       "\n",
       "  min_order_purchase_timestamp     cohort  \n",
       "0          2017-05-16 15:05:35 2017-05-01  \n",
       "1          2017-09-14 18:14:31 2017-09-01  \n",
       "2          2017-09-14 18:14:31 2017-09-01  \n",
       "3          2017-11-16 19:29:02 2017-11-01  \n",
       "4          2017-11-27 17:23:20 2017-11-01  "
      ]
     },
     "execution_count": 62,
     "metadata": {},
     "output_type": "execute_result"
    }
   ],
   "source": [
    "df_customers_full.head()"
   ]
  },
  {
   "cell_type": "code",
   "execution_count": 63,
   "id": "e44634c0",
   "metadata": {},
   "outputs": [],
   "source": [
    "# 17. Выделяем месяц в дате заказа"
   ]
  },
  {
   "cell_type": "code",
   "execution_count": 64,
   "id": "074fa907",
   "metadata": {},
   "outputs": [],
   "source": [
    "df_customers_full['order_purchase_timestamp']=pd.to_datetime(df_customers_full['order_purchase_timestamp'])"
   ]
  },
  {
   "cell_type": "code",
   "execution_count": 65,
   "id": "cb462a34",
   "metadata": {},
   "outputs": [],
   "source": [
    "df_customers_full['order_purchase_month'] = df_customers_full['order_purchase_timestamp'].dt.to_period('M').dt.to_timestamp()"
   ]
  },
  {
   "cell_type": "code",
   "execution_count": 66,
   "id": "31f736e4",
   "metadata": {},
   "outputs": [],
   "source": [
    "# 18. Новый столбец - какой должен быть 3й месяц покупки для когорты"
   ]
  },
  {
   "cell_type": "code",
   "execution_count": 67,
   "id": "2004745c",
   "metadata": {},
   "outputs": [],
   "source": [
    "df_customers_full['3d month'] = df_customers_full['cohort'] + pd.DateOffset(months=3)"
   ]
  },
  {
   "cell_type": "code",
   "execution_count": 68,
   "id": "0f1569d6",
   "metadata": {},
   "outputs": [],
   "source": [
    "# 19. Клиенты которые сделали покупку на 3й месяц с дня 1й покупки"
   ]
  },
  {
   "cell_type": "code",
   "execution_count": 69,
   "id": "3c1748da",
   "metadata": {},
   "outputs": [],
   "source": [
    "customers_retained_3d_mnth = df_customers_full[df_customers_full['order_purchase_month']==df_customers_full['3d month']]['customer_unique_id'].unique()"
   ]
  },
  {
   "cell_type": "code",
   "execution_count": 70,
   "id": "16d87943",
   "metadata": {},
   "outputs": [
    {
     "data": {
      "text/plain": [
       "71"
      ]
     },
     "execution_count": 70,
     "metadata": {},
     "output_type": "execute_result"
    }
   ],
   "source": [
    "len(customers_retained_3d_mnth)"
   ]
  },
  {
   "cell_type": "code",
   "execution_count": 71,
   "id": "13ac1f8c",
   "metadata": {},
   "outputs": [],
   "source": [
    "# 20. Столбец-флаг, сделал ли клиент покупку на 3й месяц со дня первой покупки "
   ]
  },
  {
   "cell_type": "code",
   "execution_count": 72,
   "id": "88ca2d0e",
   "metadata": {},
   "outputs": [],
   "source": [
    "df_customers_full['3d_month_retained'] = df_customers_full['customer_unique_id'].isin(customers_retained_3d_mnth)"
   ]
  },
  {
   "cell_type": "code",
   "execution_count": 73,
   "id": "28dded9e",
   "metadata": {},
   "outputs": [],
   "source": [
    "# 21. Смотрим уникальніе значения 'cohort', 'customer_unique_id', '3d_month_retained'"
   ]
  },
  {
   "cell_type": "code",
   "execution_count": 74,
   "id": "8d757540",
   "metadata": {},
   "outputs": [],
   "source": [
    "df_cohorts = df_customers_full[['cohort', 'customer_unique_id', '3d_month_retained']].drop_duplicates()"
   ]
  },
  {
   "cell_type": "code",
   "execution_count": 75,
   "id": "7da8d10b",
   "metadata": {},
   "outputs": [],
   "source": [
    "retained_clients = df_cohorts.groupby('cohort')['3d_month_retained'].sum()"
   ]
  },
  {
   "cell_type": "code",
   "execution_count": 76,
   "id": "0dcd235a",
   "metadata": {},
   "outputs": [
    {
     "name": "stdout",
     "output_type": "stream",
     "text": [
      "cohort\n",
      "2017-01-01     1\n",
      "2017-02-01     2\n",
      "2017-03-01    10\n",
      "2017-04-01     4\n",
      "2017-05-01    10\n",
      "2017-06-01    13\n",
      "2017-07-01     9\n",
      "2017-08-01    11\n",
      "2017-09-01    11\n",
      "2017-10-01     0\n",
      "2017-11-01     0\n",
      "2017-12-01     0\n",
      "Name: 3d_month_retained, dtype: int64\n"
     ]
    }
   ],
   "source": [
    "print(retained_clients)"
   ]
  },
  {
   "cell_type": "code",
   "execution_count": 77,
   "id": "77e3dc5d",
   "metadata": {},
   "outputs": [],
   "source": [
    "cohort_client_counts = df_cohorts.groupby('cohort')['customer_unique_id'].count()"
   ]
  },
  {
   "cell_type": "code",
   "execution_count": 78,
   "id": "12ebd88f",
   "metadata": {},
   "outputs": [
    {
     "name": "stdout",
     "output_type": "stream",
     "text": [
      "cohort\n",
      "2017-01-01     718\n",
      "2017-02-01    1628\n",
      "2017-03-01    2503\n",
      "2017-04-01    2257\n",
      "2017-05-01    3451\n",
      "2017-06-01    3037\n",
      "2017-07-01    3753\n",
      "2017-08-01    4057\n",
      "2017-09-01    4005\n",
      "2017-10-01    4328\n",
      "2017-11-01    7064\n",
      "2017-12-01    5446\n",
      "Name: customer_unique_id, dtype: int64\n"
     ]
    }
   ],
   "source": [
    "print(cohort_client_counts)"
   ]
  },
  {
   "cell_type": "code",
   "execution_count": 79,
   "id": "2f56215b",
   "metadata": {},
   "outputs": [
    {
     "data": {
      "text/plain": [
       "cohort\n",
       "2017-01-01    0.139276\n",
       "2017-02-01    0.122850\n",
       "2017-03-01    0.399521\n",
       "2017-04-01    0.177226\n",
       "2017-05-01    0.289771\n",
       "2017-06-01    0.428054\n",
       "2017-07-01    0.239808\n",
       "2017-08-01    0.271136\n",
       "2017-09-01    0.274657\n",
       "2017-10-01    0.000000\n",
       "2017-11-01    0.000000\n",
       "2017-12-01    0.000000\n",
       "dtype: float64"
      ]
     },
     "execution_count": 79,
     "metadata": {},
     "output_type": "execute_result"
    }
   ],
   "source": [
    "retained_clients/cohort_client_counts*100"
   ]
  },
  {
   "cell_type": "code",
   "execution_count": 80,
   "id": "ab695773",
   "metadata": {},
   "outputs": [],
   "source": [
    "# Больше всего клиентов вернулось на покупку через 3 месяца из июнской когорты"
   ]
  }
 ],
 "metadata": {
  "kernelspec": {
   "display_name": "Python 3 (ipykernel)",
   "language": "python",
   "name": "python3"
  },
  "language_info": {
   "codemirror_mode": {
    "name": "ipython",
    "version": 3
   },
   "file_extension": ".py",
   "mimetype": "text/x-python",
   "name": "python",
   "nbconvert_exporter": "python",
   "pygments_lexer": "ipython3",
   "version": "3.8.0"
  }
 },
 "nbformat": 4,
 "nbformat_minor": 5
}
